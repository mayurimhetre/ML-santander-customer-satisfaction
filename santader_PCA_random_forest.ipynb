{
 "cells": [
  {
   "cell_type": "code",
   "execution_count": 1,
   "id": "daa35a80",
   "metadata": {},
   "outputs": [],
   "source": [
    "import pandas as pd\n",
    "import numpy as np\n",
    "import matplotlib.pyplot as plt\n",
    "import seaborn as sns\n",
    "\n",
    "df  = pd.read_csv('sample_submission.csv')\n",
    "train_data = pd.read_csv('train.csv')\n",
    "test_data = pd.read_csv('test.csv')\n",
    "\n",
    "\n",
    "###### repalcing -999999 with 2 \n",
    "train_data['var3'] = train_data['var3'].replace(-999999, 2)\n",
    "\n",
    "########## checking for coreelation #############\n",
    "def correlation(dataset, threshold):\n",
    "    col_corr = set()  # Set of all the names of correlated columns\n",
    "    corr_matrix = dataset.corr()\n",
    "    for i in range(len(corr_matrix.columns)):\n",
    "        for j in range(i):\n",
    "            if abs(corr_matrix.iloc[i, j]) > threshold: # we are interested in absolute coeff value\n",
    "                colname = corr_matrix.columns[i]  # getting the name of column\n",
    "                col_corr.add(colname)\n",
    "    return col_corr\n",
    "\n",
    "correlation(train_data,0.95)\n",
    "\n",
    "\n",
    "##### Dropping highly corelated columns #####################\n",
    "\n",
    "train_data =  train_data.drop(['delta_imp_amort_var18_1y3',\n",
    " 'delta_imp_amort_var34_1y3',\n",
    " 'delta_num_aport_var13_1y3',\n",
    " 'delta_num_aport_var17_1y3',\n",
    " 'delta_num_aport_var33_1y3',\n",
    " 'delta_num_compra_var44_1y3',\n",
    " 'delta_num_reemb_var13_1y3',\n",
    " 'delta_num_reemb_var17_1y3',\n",
    " 'delta_num_reemb_var33_1y3',\n",
    " 'delta_num_trasp_var17_in_1y3',\n",
    " 'delta_num_trasp_var17_out_1y3',\n",
    " 'delta_num_trasp_var33_in_1y3',\n",
    " 'delta_num_trasp_var33_out_1y3',\n",
    " 'delta_num_venta_var44_1y3',\n",
    " 'imp_amort_var18_ult1',\n",
    " 'imp_amort_var34_ult1',\n",
    " 'imp_aport_var17_hace3',\n",
    " 'imp_op_var39_efect_ult1',\n",
    " 'imp_op_var39_efect_ult3',\n",
    " 'imp_op_var39_ult1',\n",
    " 'imp_op_var41_comer_ult1',\n",
    " 'imp_op_var41_comer_ult3',\n",
    " 'imp_reemb_var33_ult1',\n",
    " 'imp_trasp_var33_out_ult1',\n",
    " 'imp_venta_var44_ult1',\n",
    " 'ind_var13',\n",
    " 'ind_var13_corto',\n",
    " 'ind_var13_largo',\n",
    " 'ind_var13_medio',\n",
    " 'ind_var18',\n",
    " 'ind_var25',\n",
    " 'ind_var25_0',\n",
    " 'ind_var26',\n",
    " 'ind_var26_cte',\n",
    " 'ind_var29',\n",
    " 'ind_var29_0',\n",
    " 'ind_var32',\n",
    " 'ind_var34',\n",
    " 'ind_var37',\n",
    " 'ind_var39',\n",
    " 'ind_var40',\n",
    " 'ind_var40_0',\n",
    " 'ind_var41_0',\n",
    " 'ind_var9_cte_ult1',\n",
    " 'ind_var9_ult1',\n",
    " 'num_meses_var12_ult3',\n",
    " 'num_meses_var13_corto_ult3',\n",
    " 'num_meses_var13_medio_ult3',\n",
    " 'num_meses_var33_ult3',\n",
    " 'num_op_var39_efect_ult1',\n",
    " 'num_op_var39_efect_ult3',\n",
    " 'num_op_var39_hace2',\n",
    " 'num_op_var39_hace3',\n",
    " 'num_op_var39_ult1',\n",
    " 'num_op_var39_ult3',\n",
    " 'num_op_var40_ult3',\n",
    " 'num_op_var41_comer_ult1',\n",
    " 'num_op_var41_comer_ult3',\n",
    " 'num_reemb_var13_ult1',\n",
    " 'num_reemb_var17_hace3',\n",
    " 'num_reemb_var33_ult1',\n",
    " 'num_trasp_var17_in_hace3',\n",
    " 'num_trasp_var17_in_ult1',\n",
    " 'num_trasp_var17_out_ult1',\n",
    " 'num_trasp_var33_in_hace3',\n",
    " 'num_trasp_var33_out_ult1',\n",
    " 'num_var1',\n",
    " 'num_var12',\n",
    " 'num_var13',\n",
    " 'num_var13_0',\n",
    " 'num_var13_corto',\n",
    " 'num_var13_corto_0',\n",
    " 'num_var13_largo',\n",
    " 'num_var13_medio',\n",
    " 'num_var13_medio_0',\n",
    " 'num_var14',\n",
    " 'num_var18',\n",
    " 'num_var18_0',\n",
    " 'num_var1_0',\n",
    " 'num_var20',\n",
    " 'num_var20_0',\n",
    " 'num_var24',\n",
    " 'num_var24_0',\n",
    " 'num_var25',\n",
    " 'num_var25_0',\n",
    " 'num_var26',\n",
    " 'num_var29',\n",
    " 'num_var29_0',\n",
    " 'num_var32',\n",
    " 'num_var33',\n",
    " 'num_var34',\n",
    " 'num_var34_0',\n",
    " 'num_var35',\n",
    " 'num_var37',\n",
    " 'num_var39',\n",
    " 'num_var40',\n",
    " 'num_var40_0',\n",
    " 'num_var41_0',\n",
    " 'num_var44',\n",
    " 'num_var44_0',\n",
    " 'num_var45_ult3',\n",
    " 'num_var5',\n",
    " 'num_var6',\n",
    " 'num_var6_0',\n",
    " 'num_var7_emit_ult1',\n",
    " 'num_var8',\n",
    " 'num_var8_0',\n",
    " 'saldo_medio_var12_ult1',\n",
    " 'saldo_medio_var12_ult3',\n",
    " 'saldo_medio_var13_corto_ult1',\n",
    " 'saldo_medio_var13_corto_ult3',\n",
    " 'saldo_medio_var13_largo_ult3',\n",
    " 'saldo_medio_var13_medio_hace2',\n",
    " 'saldo_medio_var13_medio_ult1',\n",
    " 'saldo_medio_var13_medio_ult3',\n",
    " 'saldo_medio_var17_hace2',\n",
    " 'saldo_medio_var17_hace3',\n",
    " 'saldo_medio_var17_ult1',\n",
    " 'saldo_medio_var17_ult3',\n",
    " 'saldo_medio_var29_ult3',\n",
    " 'saldo_medio_var33_ult1',\n",
    " 'saldo_medio_var33_ult3',\n",
    " 'saldo_medio_var44_ult3',\n",
    " 'saldo_var18',\n",
    " 'saldo_var24',\n",
    " 'saldo_var25',\n",
    " 'saldo_var29',\n",
    " 'saldo_var31',\n",
    " 'saldo_var42',\n",
    " 'saldo_var6'],axis=1)\n",
    "\n",
    "\n",
    "X = train_data.drop(['ID','TARGET'],axis=1)\n",
    "y = train_data['TARGET']\n",
    "\n"
   ]
  },
  {
   "cell_type": "code",
   "execution_count": 8,
   "id": "89b33113",
   "metadata": {},
   "outputs": [
    {
     "name": "stdout",
     "output_type": "stream",
     "text": [
      "Accuracy of train data:  0.9606870372458376\n",
      "Accuracy of test data:  1.0\n"
     ]
    }
   ],
   "source": [
    "################ PCA on entire dataset ##################\n",
    "from sklearn.decomposition import PCA\n",
    "pca1 = PCA(n_components=2)\n",
    "pca1.fit(X)\n",
    "x_pca_transformed = pca1.transform(X)\n",
    "\n",
    "\n",
    "\n",
    "####### Model building #############\n",
    "X = x_pca_transformed\n",
    "y = train_data['TARGET']\n",
    "from sklearn.model_selection import train_test_split\n",
    "X_train, X_test, y_train, y_test = train_test_split(X, y, test_size=0.3, random_state=0)\n",
    "\n",
    "########## Model Training #################3\n",
    "\n",
    "from sklearn.ensemble import RandomForestClassifier\n",
    "clf_rf = RandomForestClassifier()\n",
    "\n",
    "clf_rf.fit(X_train,y_train)\n",
    "rf_y_pred = clf_rf.predict(X_test)\n",
    "\n",
    "print(\"Accuracy of train data: \" , clf_rf.score(X_train,y_train))\n",
    "print(\"Accuracy of test data: \" , clf_rf.score(X_test,rf_y_pred))"
   ]
  },
  {
   "cell_type": "code",
   "execution_count": 9,
   "id": "414d2276",
   "metadata": {},
   "outputs": [
    {
     "name": "stdout",
     "output_type": "stream",
     "text": [
      "              precision    recall  f1-score   support\n",
      "\n",
      "           0       0.96      1.00      0.98     21892\n",
      "           1       0.00      0.00      0.00       914\n",
      "\n",
      "    accuracy                           0.96     22806\n",
      "   macro avg       0.48      0.50      0.49     22806\n",
      "weighted avg       0.92      0.96      0.94     22806\n",
      "\n",
      "[[21891     1]\n",
      " [  914     0]]\n",
      "accuracy is:  0.9598789792159957\n"
     ]
    }
   ],
   "source": [
    "from sklearn.metrics import classification_report\n",
    "print(classification_report(y_test,rf_y_pred))\n",
    "\n",
    "from sklearn import metrics\n",
    "print(metrics.confusion_matrix(y_test,rf_y_pred))\n",
    "\n",
    "from sklearn.metrics import accuracy_score\n",
    "print(\"accuracy is: \" ,accuracy_score(y_test,rf_y_pred))"
   ]
  },
  {
   "cell_type": "code",
   "execution_count": 10,
   "id": "ba3b5d5a",
   "metadata": {},
   "outputs": [
    {
     "data": {
      "text/plain": [
       "Text(0, 0.5, 'Second Principal Component')"
      ]
     },
     "execution_count": 10,
     "metadata": {},
     "output_type": "execute_result"
    },
    {
     "data": {
      "image/png": "[encoded data removed]",
      "text/plain": [
       "<Figure size 720x576 with 1 Axes>"
      ]
     },
     "metadata": {
      "needs_background": "light"
     },
     "output_type": "display_data"
    }
   ],
   "source": [
    "plt.figure(figsize=(10,8))\n",
    "plt.scatter(x_pca_transformed[:,0],x_pca_transformed[:,1],c=y,cmap='plasma')\n",
    "plt.xlabel('First principal component')\n",
    "plt.ylabel('Second Principal Component')"
   ]
  },
  {
   "cell_type": "code",
   "execution_count": 25,
   "id": "6d152e1b",
   "metadata": {},
   "outputs": [
    {
     "data": {
      "text/plain": [
       "(75818, 370)"
      ]
     },
     "execution_count": 25,
     "metadata": {},
     "output_type": "execute_result"
    }
   ],
   "source": [
    "################ Preparing Test data ###################\n",
    "test_data = pd.read_csv('test.csv')\n",
    "test_data.shape"
   ]
  },
  {
   "cell_type": "code",
   "execution_count": 13,
   "id": "c3e6f3e7",
   "metadata": {},
   "outputs": [
    {
     "data": {
      "text/html": [
       "<div>\n",
       "<style scoped>\n",
       "    .dataframe tbody tr th:only-of-type {\n",
       "        vertical-align: middle;\n",
       "    }\n",
       "\n",
       "    .dataframe tbody tr th {\n",
       "        vertical-align: top;\n",
       "    }\n",
       "\n",
       "    .dataframe thead th {\n",
       "        text-align: right;\n",
       "    }\n",
       "</style>\n",
       "<table border=\"1\" class=\"dataframe\">\n",
       "  <thead>\n",
       "    <tr style=\"text-align: right;\">\n",
       "      <th></th>\n",
       "      <th>ID</th>\n",
       "      <th>var3</th>\n",
       "      <th>var15</th>\n",
       "      <th>imp_ent_var16_ult1</th>\n",
       "      <th>imp_op_var39_comer_ult1</th>\n",
       "      <th>imp_op_var39_comer_ult3</th>\n",
       "      <th>imp_op_var40_comer_ult1</th>\n",
       "      <th>imp_op_var40_comer_ult3</th>\n",
       "      <th>imp_op_var40_efect_ult1</th>\n",
       "      <th>imp_op_var40_efect_ult3</th>\n",
       "      <th>...</th>\n",
       "      <th>saldo_medio_var29_ult3</th>\n",
       "      <th>saldo_medio_var33_hace2</th>\n",
       "      <th>saldo_medio_var33_hace3</th>\n",
       "      <th>saldo_medio_var33_ult1</th>\n",
       "      <th>saldo_medio_var33_ult3</th>\n",
       "      <th>saldo_medio_var44_hace2</th>\n",
       "      <th>saldo_medio_var44_hace3</th>\n",
       "      <th>saldo_medio_var44_ult1</th>\n",
       "      <th>saldo_medio_var44_ult3</th>\n",
       "      <th>var38</th>\n",
       "    </tr>\n",
       "  </thead>\n",
       "  <tbody>\n",
       "    <tr>\n",
       "      <th>0</th>\n",
       "      <td>2</td>\n",
       "      <td>2</td>\n",
       "      <td>32</td>\n",
       "      <td>0.0</td>\n",
       "      <td>0.0</td>\n",
       "      <td>0.0</td>\n",
       "      <td>0.0</td>\n",
       "      <td>0.0</td>\n",
       "      <td>0.0</td>\n",
       "      <td>0.0</td>\n",
       "      <td>...</td>\n",
       "      <td>0.0</td>\n",
       "      <td>0.0</td>\n",
       "      <td>0.0</td>\n",
       "      <td>0.0</td>\n",
       "      <td>0.0</td>\n",
       "      <td>0.0</td>\n",
       "      <td>0.0</td>\n",
       "      <td>0.0</td>\n",
       "      <td>0.0</td>\n",
       "      <td>40532.10</td>\n",
       "    </tr>\n",
       "    <tr>\n",
       "      <th>1</th>\n",
       "      <td>5</td>\n",
       "      <td>2</td>\n",
       "      <td>35</td>\n",
       "      <td>0.0</td>\n",
       "      <td>0.0</td>\n",
       "      <td>0.0</td>\n",
       "      <td>0.0</td>\n",
       "      <td>0.0</td>\n",
       "      <td>0.0</td>\n",
       "      <td>0.0</td>\n",
       "      <td>...</td>\n",
       "      <td>0.0</td>\n",
       "      <td>0.0</td>\n",
       "      <td>0.0</td>\n",
       "      <td>0.0</td>\n",
       "      <td>0.0</td>\n",
       "      <td>0.0</td>\n",
       "      <td>0.0</td>\n",
       "      <td>0.0</td>\n",
       "      <td>0.0</td>\n",
       "      <td>45486.72</td>\n",
       "    </tr>\n",
       "    <tr>\n",
       "      <th>2</th>\n",
       "      <td>6</td>\n",
       "      <td>2</td>\n",
       "      <td>23</td>\n",
       "      <td>0.0</td>\n",
       "      <td>0.0</td>\n",
       "      <td>0.0</td>\n",
       "      <td>0.0</td>\n",
       "      <td>0.0</td>\n",
       "      <td>0.0</td>\n",
       "      <td>0.0</td>\n",
       "      <td>...</td>\n",
       "      <td>0.0</td>\n",
       "      <td>0.0</td>\n",
       "      <td>0.0</td>\n",
       "      <td>0.0</td>\n",
       "      <td>0.0</td>\n",
       "      <td>0.0</td>\n",
       "      <td>0.0</td>\n",
       "      <td>0.0</td>\n",
       "      <td>0.0</td>\n",
       "      <td>46993.95</td>\n",
       "    </tr>\n",
       "    <tr>\n",
       "      <th>3</th>\n",
       "      <td>7</td>\n",
       "      <td>2</td>\n",
       "      <td>24</td>\n",
       "      <td>0.0</td>\n",
       "      <td>0.0</td>\n",
       "      <td>0.0</td>\n",
       "      <td>0.0</td>\n",
       "      <td>0.0</td>\n",
       "      <td>0.0</td>\n",
       "      <td>0.0</td>\n",
       "      <td>...</td>\n",
       "      <td>0.0</td>\n",
       "      <td>0.0</td>\n",
       "      <td>0.0</td>\n",
       "      <td>0.0</td>\n",
       "      <td>0.0</td>\n",
       "      <td>0.0</td>\n",
       "      <td>0.0</td>\n",
       "      <td>0.0</td>\n",
       "      <td>0.0</td>\n",
       "      <td>187898.61</td>\n",
       "    </tr>\n",
       "    <tr>\n",
       "      <th>4</th>\n",
       "      <td>9</td>\n",
       "      <td>2</td>\n",
       "      <td>23</td>\n",
       "      <td>0.0</td>\n",
       "      <td>0.0</td>\n",
       "      <td>0.0</td>\n",
       "      <td>0.0</td>\n",
       "      <td>0.0</td>\n",
       "      <td>0.0</td>\n",
       "      <td>0.0</td>\n",
       "      <td>...</td>\n",
       "      <td>0.0</td>\n",
       "      <td>0.0</td>\n",
       "      <td>0.0</td>\n",
       "      <td>0.0</td>\n",
       "      <td>0.0</td>\n",
       "      <td>0.0</td>\n",
       "      <td>0.0</td>\n",
       "      <td>0.0</td>\n",
       "      <td>0.0</td>\n",
       "      <td>73649.73</td>\n",
       "    </tr>\n",
       "  </tbody>\n",
       "</table>\n",
       "<p>5 rows × 370 columns</p>\n",
       "</div>"
      ],
      "text/plain": [
       "   ID  var3  var15  imp_ent_var16_ult1  imp_op_var39_comer_ult1  \\\n",
       "0   2     2     32                 0.0                      0.0   \n",
       "1   5     2     35                 0.0                      0.0   \n",
       "2   6     2     23                 0.0                      0.0   \n",
       "3   7     2     24                 0.0                      0.0   \n",
       "4   9     2     23                 0.0                      0.0   \n",
       "\n",
       "   imp_op_var39_comer_ult3  imp_op_var40_comer_ult1  imp_op_var40_comer_ult3  \\\n",
       "0                      0.0                      0.0                      0.0   \n",
       "1                      0.0                      0.0                      0.0   \n",
       "2                      0.0                      0.0                      0.0   \n",
       "3                      0.0                      0.0                      0.0   \n",
       "4                      0.0                      0.0                      0.0   \n",
       "\n",
       "   imp_op_var40_efect_ult1  imp_op_var40_efect_ult3  ...  \\\n",
       "0                      0.0                      0.0  ...   \n",
       "1                      0.0                      0.0  ...   \n",
       "2                      0.0                      0.0  ...   \n",
       "3                      0.0                      0.0  ...   \n",
       "4                      0.0                      0.0  ...   \n",
       "\n",
       "   saldo_medio_var29_ult3  saldo_medio_var33_hace2  saldo_medio_var33_hace3  \\\n",
       "0                     0.0                      0.0                      0.0   \n",
       "1                     0.0                      0.0                      0.0   \n",
       "2                     0.0                      0.0                      0.0   \n",
       "3                     0.0                      0.0                      0.0   \n",
       "4                     0.0                      0.0                      0.0   \n",
       "\n",
       "   saldo_medio_var33_ult1  saldo_medio_var33_ult3  saldo_medio_var44_hace2  \\\n",
       "0                     0.0                     0.0                      0.0   \n",
       "1                     0.0                     0.0                      0.0   \n",
       "2                     0.0                     0.0                      0.0   \n",
       "3                     0.0                     0.0                      0.0   \n",
       "4                     0.0                     0.0                      0.0   \n",
       "\n",
       "   saldo_medio_var44_hace3  saldo_medio_var44_ult1  saldo_medio_var44_ult3  \\\n",
       "0                      0.0                     0.0                     0.0   \n",
       "1                      0.0                     0.0                     0.0   \n",
       "2                      0.0                     0.0                     0.0   \n",
       "3                      0.0                     0.0                     0.0   \n",
       "4                      0.0                     0.0                     0.0   \n",
       "\n",
       "       var38  \n",
       "0   40532.10  \n",
       "1   45486.72  \n",
       "2   46993.95  \n",
       "3  187898.61  \n",
       "4   73649.73  \n",
       "\n",
       "[5 rows x 370 columns]"
      ]
     },
     "execution_count": 13,
     "metadata": {},
     "output_type": "execute_result"
    }
   ],
   "source": [
    "test_data.head()"
   ]
  },
  {
   "cell_type": "code",
   "execution_count": 14,
   "id": "f10b1c62",
   "metadata": {},
   "outputs": [
    {
     "data": {
      "text/plain": [
       " 2         73962\n",
       "-999999      120\n",
       " 8           116\n",
       " 9           108\n",
       " 13          107\n",
       "           ...  \n",
       " 99            1\n",
       " 225           1\n",
       " 132           1\n",
       " 96            1\n",
       " 191           1\n",
       "Name: var3, Length: 199, dtype: int64"
      ]
     },
     "execution_count": 14,
     "metadata": {},
     "output_type": "execute_result"
    }
   ],
   "source": [
    "test_data['var3'].value_counts()"
   ]
  },
  {
   "cell_type": "code",
   "execution_count": 16,
   "id": "cb3dfd64",
   "metadata": {},
   "outputs": [
    {
     "data": {
      "text/plain": [
       "117310.979016    14805\n",
       "451931.220000       16\n",
       "128318.520000       12\n",
       "288997.440000       10\n",
       "97639.560000         8\n",
       "                 ...  \n",
       "73042.410000         1\n",
       "42104.100000         1\n",
       "43691.370000         1\n",
       "173600.640000        1\n",
       "113411.190000        1\n",
       "Name: var38, Length: 57570, dtype: int64"
      ]
     },
     "execution_count": 16,
     "metadata": {},
     "output_type": "execute_result"
    }
   ],
   "source": [
    "test_data['var38'].value_counts()"
   ]
  },
  {
   "cell_type": "code",
   "execution_count": 26,
   "id": "c2837b41",
   "metadata": {},
   "outputs": [],
   "source": [
    "###### repalcing -999999 with 2 \n",
    "test_data['var3'] = test_data['var3'].replace(-999999, 2)"
   ]
  },
  {
   "cell_type": "code",
   "execution_count": 27,
   "id": "95de4e66",
   "metadata": {},
   "outputs": [],
   "source": [
    "########## checking for coreelation #############\n",
    "def correlation(dataset, threshold):\n",
    "    col_corr = set()  # Set of all the names of correlated columns\n",
    "    corr_matrix = dataset.corr()\n",
    "    for i in range(len(corr_matrix.columns)):\n",
    "        for j in range(i):\n",
    "            if abs(corr_matrix.iloc[i, j]) > threshold: # we are interested in absolute coeff value\n",
    "                colname = corr_matrix.columns[i]  # getting the name of column\n",
    "                col_corr.add(colname)\n",
    "    return col_corr"
   ]
  },
  {
   "cell_type": "code",
   "execution_count": 28,
   "id": "3b1e20d2",
   "metadata": {},
   "outputs": [
    {
     "data": {
      "text/plain": [
       "{'delta_imp_amort_var18_1y3',\n",
       " 'delta_imp_amort_var34_1y3',\n",
       " 'delta_num_aport_var13_1y3',\n",
       " 'delta_num_aport_var17_1y3',\n",
       " 'delta_num_aport_var33_1y3',\n",
       " 'delta_num_compra_var44_1y3',\n",
       " 'delta_num_reemb_var13_1y3',\n",
       " 'delta_num_reemb_var17_1y3',\n",
       " 'delta_num_trasp_var17_in_1y3',\n",
       " 'delta_num_trasp_var33_in_1y3',\n",
       " 'delta_num_trasp_var33_out_1y3',\n",
       " 'delta_num_venta_var44_1y3',\n",
       " 'imp_amort_var18_ult1',\n",
       " 'imp_amort_var34_ult1',\n",
       " 'imp_op_var39_efect_ult1',\n",
       " 'imp_op_var39_efect_ult3',\n",
       " 'imp_op_var39_ult1',\n",
       " 'imp_trasp_var33_out_ult1',\n",
       " 'ind_var13',\n",
       " 'ind_var13_corto',\n",
       " 'ind_var13_largo',\n",
       " 'ind_var13_medio',\n",
       " 'ind_var18',\n",
       " 'ind_var25',\n",
       " 'ind_var25_0',\n",
       " 'ind_var26',\n",
       " 'ind_var26_cte',\n",
       " 'ind_var29',\n",
       " 'ind_var29_0',\n",
       " 'ind_var32',\n",
       " 'ind_var34',\n",
       " 'ind_var37',\n",
       " 'ind_var37_0',\n",
       " 'ind_var39',\n",
       " 'ind_var40',\n",
       " 'ind_var40_0',\n",
       " 'ind_var41_0',\n",
       " 'ind_var44',\n",
       " 'ind_var7_emit_ult1',\n",
       " 'ind_var9_cte_ult1',\n",
       " 'ind_var9_ult1',\n",
       " 'num_meses_var12_ult3',\n",
       " 'num_meses_var13_corto_ult3',\n",
       " 'num_meses_var13_medio_ult3',\n",
       " 'num_op_var39_efect_ult1',\n",
       " 'num_op_var39_efect_ult3',\n",
       " 'num_op_var39_hace2',\n",
       " 'num_op_var39_hace3',\n",
       " 'num_op_var39_ult1',\n",
       " 'num_op_var39_ult3',\n",
       " 'num_op_var41_comer_ult1',\n",
       " 'num_op_var41_comer_ult3',\n",
       " 'num_reemb_var13_ult1',\n",
       " 'num_trasp_var33_in_ult1',\n",
       " 'num_trasp_var33_out_ult1',\n",
       " 'num_var1',\n",
       " 'num_var12',\n",
       " 'num_var12_0',\n",
       " 'num_var13',\n",
       " 'num_var13_corto',\n",
       " 'num_var13_corto_0',\n",
       " 'num_var13_largo',\n",
       " 'num_var13_medio',\n",
       " 'num_var14',\n",
       " 'num_var14_0',\n",
       " 'num_var18',\n",
       " 'num_var18_0',\n",
       " 'num_var1_0',\n",
       " 'num_var20',\n",
       " 'num_var20_0',\n",
       " 'num_var24',\n",
       " 'num_var24_0',\n",
       " 'num_var25',\n",
       " 'num_var25_0',\n",
       " 'num_var26',\n",
       " 'num_var29',\n",
       " 'num_var29_0',\n",
       " 'num_var32',\n",
       " 'num_var33',\n",
       " 'num_var33_0',\n",
       " 'num_var34',\n",
       " 'num_var34_0',\n",
       " 'num_var35',\n",
       " 'num_var37',\n",
       " 'num_var39',\n",
       " 'num_var40',\n",
       " 'num_var40_0',\n",
       " 'num_var44',\n",
       " 'num_var44_0',\n",
       " 'num_var45_ult3',\n",
       " 'num_var5',\n",
       " 'num_var6',\n",
       " 'num_var6_0',\n",
       " 'num_var7_emit_ult1',\n",
       " 'num_var8',\n",
       " 'num_var8_0',\n",
       " 'num_venta_var44_hace3',\n",
       " 'saldo_medio_var12_ult1',\n",
       " 'saldo_medio_var12_ult3',\n",
       " 'saldo_medio_var13_corto_ult1',\n",
       " 'saldo_medio_var13_corto_ult3',\n",
       " 'saldo_medio_var13_largo_ult1',\n",
       " 'saldo_medio_var13_largo_ult3',\n",
       " 'saldo_medio_var13_medio_ult1',\n",
       " 'saldo_medio_var13_medio_ult3',\n",
       " 'saldo_medio_var17_ult1',\n",
       " 'saldo_medio_var17_ult3',\n",
       " 'saldo_medio_var29_ult1',\n",
       " 'saldo_medio_var29_ult3',\n",
       " 'saldo_medio_var33_ult1',\n",
       " 'saldo_medio_var33_ult3',\n",
       " 'saldo_medio_var44_ult1',\n",
       " 'saldo_medio_var44_ult3',\n",
       " 'saldo_medio_var8_ult1',\n",
       " 'saldo_var1',\n",
       " 'saldo_var18',\n",
       " 'saldo_var24',\n",
       " 'saldo_var25',\n",
       " 'saldo_var29',\n",
       " 'saldo_var42',\n",
       " 'saldo_var6'}"
      ]
     },
     "execution_count": 28,
     "metadata": {},
     "output_type": "execute_result"
    }
   ],
   "source": [
    "correlation(test_data,0.95)"
   ]
  },
  {
   "cell_type": "code",
   "execution_count": 29,
   "id": "1ca7dd09",
   "metadata": {},
   "outputs": [],
   "source": [
    "test_data =  test_data.drop(['delta_imp_amort_var18_1y3',\n",
    " 'delta_imp_amort_var34_1y3',\n",
    " 'delta_num_aport_var13_1y3',\n",
    " 'delta_num_aport_var17_1y3',\n",
    " 'delta_num_aport_var33_1y3',\n",
    " 'delta_num_compra_var44_1y3',\n",
    " 'delta_num_reemb_var13_1y3',\n",
    " 'delta_num_reemb_var17_1y3',\n",
    " 'delta_num_trasp_var17_in_1y3',\n",
    " 'delta_num_trasp_var33_in_1y3',\n",
    " 'delta_num_trasp_var33_out_1y3',\n",
    " 'delta_num_venta_var44_1y3',\n",
    " 'imp_amort_var18_ult1',\n",
    " 'imp_amort_var34_ult1',\n",
    " 'imp_op_var39_efect_ult1',\n",
    " 'imp_op_var39_efect_ult3',\n",
    " 'imp_op_var39_ult1',\n",
    " 'imp_trasp_var33_out_ult1',\n",
    " 'ind_var13',\n",
    " 'ind_var13_corto',\n",
    " 'ind_var13_largo',\n",
    " 'ind_var13_medio',\n",
    " 'ind_var18',\n",
    " 'ind_var25',\n",
    " 'ind_var25_0',\n",
    " 'ind_var26',\n",
    " 'ind_var26_cte',\n",
    " 'ind_var29',\n",
    " 'ind_var29_0',\n",
    " 'ind_var32',\n",
    " 'ind_var34',\n",
    " 'ind_var37',\n",
    " 'ind_var37_0',\n",
    " 'ind_var39',\n",
    " 'ind_var40',\n",
    " 'ind_var40_0',\n",
    " 'ind_var41_0',\n",
    " 'ind_var44',\n",
    " 'ind_var7_emit_ult1',\n",
    " 'ind_var9_cte_ult1',\n",
    " 'ind_var9_ult1',\n",
    " 'num_meses_var12_ult3',\n",
    " 'num_meses_var13_corto_ult3',\n",
    " 'num_meses_var13_medio_ult3',\n",
    " 'num_op_var39_efect_ult1',\n",
    " 'num_op_var39_efect_ult3',\n",
    " 'num_op_var39_hace2',\n",
    " 'num_op_var39_hace3',\n",
    " 'num_op_var39_ult1',\n",
    " 'num_op_var39_ult3',\n",
    " 'num_op_var41_comer_ult1',\n",
    " 'num_op_var41_comer_ult3',\n",
    " 'num_reemb_var13_ult1',\n",
    " 'num_trasp_var33_in_ult1',\n",
    " 'num_trasp_var33_out_ult1',\n",
    " 'num_var1',\n",
    " 'num_var12',\n",
    " 'num_var12_0',\n",
    " 'num_var13',\n",
    " 'num_var13_corto',\n",
    " 'num_var13_corto_0',\n",
    " 'num_var13_largo',\n",
    " 'num_var13_medio',\n",
    " 'num_var14',\n",
    " 'num_var14_0',\n",
    " 'num_var18',\n",
    " 'num_var18_0',\n",
    " 'num_var1_0',\n",
    " 'num_var20',\n",
    " 'num_var20_0',\n",
    " 'num_var24',\n",
    " 'num_var24_0',\n",
    " 'num_var25',\n",
    " 'num_var25_0',\n",
    " 'num_var26',\n",
    " 'num_var29',\n",
    " 'num_var29_0',\n",
    " 'num_var32',\n",
    " 'num_var33',\n",
    " 'num_var33_0',\n",
    " 'num_var34',\n",
    " 'num_var34_0',\n",
    " 'num_var35',\n",
    " 'num_var37',\n",
    " 'num_var39',\n",
    " 'num_var40',\n",
    " 'num_var40_0',\n",
    " 'num_var44',\n",
    " 'num_var44_0',\n",
    " 'num_var45_ult3',\n",
    " 'num_var5',\n",
    " 'num_var6',\n",
    " 'num_var6_0',\n",
    " 'num_var7_emit_ult1',\n",
    " 'num_var8',\n",
    " 'num_var8_0',\n",
    " 'num_venta_var44_hace3',\n",
    " 'saldo_medio_var12_ult1',\n",
    " 'saldo_medio_var12_ult3',\n",
    " 'saldo_medio_var13_corto_ult1',\n",
    " 'saldo_medio_var13_corto_ult3',\n",
    " 'saldo_medio_var13_largo_ult1',\n",
    " 'saldo_medio_var13_largo_ult3',\n",
    " 'saldo_medio_var13_medio_ult1',\n",
    " 'saldo_medio_var13_medio_ult3',\n",
    " 'saldo_medio_var17_ult1',\n",
    " 'saldo_medio_var17_ult3',\n",
    " 'saldo_medio_var29_ult1',\n",
    " 'saldo_medio_var29_ult3',\n",
    " 'saldo_medio_var33_ult1',\n",
    " 'saldo_medio_var33_ult3',\n",
    " 'saldo_medio_var44_ult1',\n",
    " 'saldo_medio_var44_ult3',\n",
    " 'saldo_medio_var8_ult1',\n",
    " 'saldo_var1',\n",
    " 'saldo_var18',\n",
    " 'saldo_var24',\n",
    " 'saldo_var25',\n",
    " 'saldo_var29',\n",
    " 'saldo_var42',\n",
    " 'saldo_var6'],axis=1)"
   ]
  },
  {
   "cell_type": "code",
   "execution_count": 30,
   "id": "68f914ca",
   "metadata": {},
   "outputs": [
    {
     "data": {
      "text/plain": [
       "(75818, 249)"
      ]
     },
     "execution_count": 30,
     "metadata": {},
     "output_type": "execute_result"
    }
   ],
   "source": [
    "test_data.shape"
   ]
  },
  {
   "cell_type": "code",
   "execution_count": 32,
   "id": "d142e048",
   "metadata": {},
   "outputs": [],
   "source": [
    "################ PCA on entire dataset ##################\n",
    "from sklearn.decomposition import PCA\n",
    "pca2 = PCA(n_components=2)\n",
    "pca2.fit(test_data)\n",
    "x_pca_transformed_test = pca2.transform(test_data)"
   ]
  },
  {
   "cell_type": "code",
   "execution_count": 33,
   "id": "506f9f85",
   "metadata": {},
   "outputs": [],
   "source": [
    "rf_y_pred_test = clf_rf.predict(x_pca_transformed_test)"
   ]
  },
  {
   "cell_type": "code",
   "execution_count": 34,
   "id": "710ba8af",
   "metadata": {},
   "outputs": [
    {
     "data": {
      "text/plain": [
       "array([0, 0, 0, ..., 0, 0, 0], dtype=int64)"
      ]
     },
     "execution_count": 34,
     "metadata": {},
     "output_type": "execute_result"
    }
   ],
   "source": [
    "rf_y_pred_test"
   ]
  },
  {
   "cell_type": "code",
   "execution_count": 35,
   "id": "ac938cc2",
   "metadata": {},
   "outputs": [
    {
     "data": {
      "text/plain": [
       "(75818,)"
      ]
     },
     "execution_count": 35,
     "metadata": {},
     "output_type": "execute_result"
    }
   ],
   "source": [
    "rf_y_pred_test.shape"
   ]
  },
  {
   "cell_type": "code",
   "execution_count": 37,
   "id": "be058fa2",
   "metadata": {},
   "outputs": [],
   "source": [
    "test_data_actual = np.zeros(75818, dtype=int)"
   ]
  },
  {
   "cell_type": "code",
   "execution_count": 38,
   "id": "4bce53d0",
   "metadata": {},
   "outputs": [
    {
     "data": {
      "text/plain": [
       "(75818,)"
      ]
     },
     "execution_count": 38,
     "metadata": {},
     "output_type": "execute_result"
    }
   ],
   "source": [
    "test_data_actual.shape"
   ]
  },
  {
   "cell_type": "code",
   "execution_count": 39,
   "id": "46f86588",
   "metadata": {},
   "outputs": [],
   "source": [
    "df_final_output = pd.DataFrame({'actual':test_data_actual,'predicted_PCA':rf_y_pred_test})"
   ]
  },
  {
   "cell_type": "code",
   "execution_count": 41,
   "id": "3503abfb",
   "metadata": {},
   "outputs": [
    {
     "data": {
      "text/plain": [
       "actual  predicted_PCA\n",
       "0       0                75443\n",
       "        1                  375\n",
       "dtype: int64"
      ]
     },
     "execution_count": 41,
     "metadata": {},
     "output_type": "execute_result"
    }
   ],
   "source": [
    "df_final_output.value_counts()"
   ]
  },
  {
   "cell_type": "code",
   "execution_count": 43,
   "id": "9dde1a46",
   "metadata": {},
   "outputs": [
    {
     "data": {
      "text/plain": [
       "<AxesSubplot:ylabel='Count'>"
      ]
     },
     "execution_count": 43,
     "metadata": {},
     "output_type": "execute_result"
    },
    {
     "data": {
      "image/png": "[encoded data removed]",
      "text/plain": [
       "<Figure size 432x288 with 1 Axes>"
      ]
     },
     "metadata": {
      "needs_background": "light"
     },
     "output_type": "display_data"
    }
   ],
   "source": [
    "sns.histplot(df_final_output)"
   ]
  },
  {
   "cell_type": "markdown",
   "id": "69a1b6cd",
   "metadata": {},
   "source": [
    "Records - 375 -- detected as 1 that means customers are unsatisfied.\n",
    "\n",
    "\n",
    "Given in problem set :\n",
    "You are provided with an anonymized dataset containing a large number of numeric variables. The \"TARGET\" column is the variable to predict. It equals one for unsatisfied customers and 0 for satisfied customers.\n",
    "1: unsatisfied customers\n",
    "0 : satisfied customers\n",
    "    \n",
    "The task is to predict the probability that each customer in the test set is an unsatisfied customer.\n",
    "in sample_submission op: 0"
   ]
  },
  {
   "cell_type": "code",
   "execution_count": 45,
   "id": "7c40331b",
   "metadata": {},
   "outputs": [
    {
     "data": {
      "text/plain": [
       "0    75818\n",
       "Name: TARGET, dtype: int64"
      ]
     },
     "execution_count": 45,
     "metadata": {},
     "output_type": "execute_result"
    }
   ],
   "source": [
    "df['TARGET'].value_counts()"
   ]
  },
  {
   "cell_type": "code",
   "execution_count": 47,
   "id": "b51a5544",
   "metadata": {},
   "outputs": [
    {
     "data": {
      "text/plain": [
       "(75818, 2)"
      ]
     },
     "execution_count": 47,
     "metadata": {},
     "output_type": "execute_result"
    }
   ],
   "source": [
    "df.shape"
   ]
  },
  {
   "cell_type": "code",
   "execution_count": null,
   "id": "6f161126",
   "metadata": {},
   "outputs": [],
   "source": []
  }
 ],
 "metadata": {
  "kernelspec": {
   "display_name": "Python 3",
   "language": "python",
   "name": "python3"
  },
  "language_info": {
   "codemirror_mode": {
    "name": "ipython",
    "version": 3
   },
   "file_extension": ".py",
   "mimetype": "text/x-python",
   "name": "python",
   "nbconvert_exporter": "python",
   "pygments_lexer": "ipython3",
   "version": "3.9.5"
  }
 },
 "nbformat": 4,
 "nbformat_minor": 5
}
